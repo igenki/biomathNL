{
 "cells": [
  {
   "cell_type": "markdown",
   "metadata": {},
   "source": [
    "# 第5回 数理生物研究×計算機\n",
    "## 実データの単回帰分析 ソースコード"
   ]
  },
  {
   "cell_type": "markdown",
   "metadata": {},
   "source": [
    "### ソースコード1  PyDataset のインストール"
   ]
  },
  {
   "cell_type": "code",
   "execution_count": 1,
   "metadata": {},
   "outputs": [
    {
     "name": "stdout",
     "output_type": "stream",
     "text": [
      "Requirement already satisfied: pydataset in c:\\users\\vani6\\anaconda3\\lib\\site-packages (0.2.0)\n",
      "Requirement already satisfied: pandas in c:\\users\\vani6\\anaconda3\\lib\\site-packages (from pydataset) (1.0.5)\n",
      "Requirement already satisfied: pytz>=2017.2 in c:\\users\\vani6\\anaconda3\\lib\\site-packages (from pandas->pydataset) (2020.1)\n",
      "Requirement already satisfied: numpy>=1.13.3 in c:\\users\\vani6\\anaconda3\\lib\\site-packages (from pandas->pydataset) (1.18.5)\n",
      "Requirement already satisfied: python-dateutil>=2.6.1 in c:\\users\\vani6\\anaconda3\\lib\\site-packages (from pandas->pydataset) (2.8.1)\n",
      "Requirement already satisfied: six>=1.5 in c:\\users\\vani6\\anaconda3\\lib\\site-packages (from python-dateutil>=2.6.1->pandas->pydataset) (1.15.0)\n"
     ]
    }
   ],
   "source": [
    "!pip install pydataset"
   ]
  },
  {
   "cell_type": "markdown",
   "metadata": {},
   "source": [
    "### ソースコード2 Rのデータセットの一覧を表示"
   ]
  },
  {
   "cell_type": "code",
   "execution_count": 2,
   "metadata": {},
   "outputs": [
    {
     "data": {
      "text/html": [
       "<div>\n",
       "<style scoped>\n",
       "    .dataframe tbody tr th:only-of-type {\n",
       "        vertical-align: middle;\n",
       "    }\n",
       "\n",
       "    .dataframe tbody tr th {\n",
       "        vertical-align: top;\n",
       "    }\n",
       "\n",
       "    .dataframe thead th {\n",
       "        text-align: right;\n",
       "    }\n",
       "</style>\n",
       "<table border=\"1\" class=\"dataframe\">\n",
       "  <thead>\n",
       "    <tr style=\"text-align: right;\">\n",
       "      <th></th>\n",
       "      <th>dataset_id</th>\n",
       "      <th>title</th>\n",
       "    </tr>\n",
       "  </thead>\n",
       "  <tbody>\n",
       "    <tr>\n",
       "      <th>0</th>\n",
       "      <td>AirPassengers</td>\n",
       "      <td>Monthly Airline Passenger Numbers 1949-1960</td>\n",
       "    </tr>\n",
       "    <tr>\n",
       "      <th>1</th>\n",
       "      <td>BJsales</td>\n",
       "      <td>Sales Data with Leading Indicator</td>\n",
       "    </tr>\n",
       "    <tr>\n",
       "      <th>2</th>\n",
       "      <td>BOD</td>\n",
       "      <td>Biochemical Oxygen Demand</td>\n",
       "    </tr>\n",
       "    <tr>\n",
       "      <th>3</th>\n",
       "      <td>Formaldehyde</td>\n",
       "      <td>Determination of Formaldehyde</td>\n",
       "    </tr>\n",
       "    <tr>\n",
       "      <th>4</th>\n",
       "      <td>HairEyeColor</td>\n",
       "      <td>Hair and Eye Color of Statistics Students</td>\n",
       "    </tr>\n",
       "    <tr>\n",
       "      <th>...</th>\n",
       "      <td>...</td>\n",
       "      <td>...</td>\n",
       "    </tr>\n",
       "    <tr>\n",
       "      <th>752</th>\n",
       "      <td>VerbAgg</td>\n",
       "      <td>Verbal Aggression item responses</td>\n",
       "    </tr>\n",
       "    <tr>\n",
       "      <th>753</th>\n",
       "      <td>cake</td>\n",
       "      <td>Breakage Angle of Chocolate Cakes</td>\n",
       "    </tr>\n",
       "    <tr>\n",
       "      <th>754</th>\n",
       "      <td>cbpp</td>\n",
       "      <td>Contagious bovine pleuropneumonia</td>\n",
       "    </tr>\n",
       "    <tr>\n",
       "      <th>755</th>\n",
       "      <td>grouseticks</td>\n",
       "      <td>Data on red grouse ticks from Elston et al. 2001</td>\n",
       "    </tr>\n",
       "    <tr>\n",
       "      <th>756</th>\n",
       "      <td>sleepstudy</td>\n",
       "      <td>Reaction times in a sleep deprivation study</td>\n",
       "    </tr>\n",
       "  </tbody>\n",
       "</table>\n",
       "<p>757 rows × 2 columns</p>\n",
       "</div>"
      ],
      "text/plain": [
       "        dataset_id                                             title\n",
       "0    AirPassengers       Monthly Airline Passenger Numbers 1949-1960\n",
       "1          BJsales                 Sales Data with Leading Indicator\n",
       "2              BOD                         Biochemical Oxygen Demand\n",
       "3     Formaldehyde                     Determination of Formaldehyde\n",
       "4     HairEyeColor         Hair and Eye Color of Statistics Students\n",
       "..             ...                                               ...\n",
       "752        VerbAgg                  Verbal Aggression item responses\n",
       "753           cake                 Breakage Angle of Chocolate Cakes\n",
       "754           cbpp                 Contagious bovine pleuropneumonia\n",
       "755    grouseticks  Data on red grouse ticks from Elston et al. 2001\n",
       "756     sleepstudy       Reaction times in a sleep deprivation study\n",
       "\n",
       "[757 rows x 2 columns]"
      ]
     },
     "execution_count": 2,
     "metadata": {},
     "output_type": "execute_result"
    }
   ],
   "source": [
    "from pydataset import data # pydataset のモジュール dataをインポート\n",
    "data() # Rのデータセットの一覧を表示"
   ]
  },
  {
   "cell_type": "markdown",
   "metadata": {},
   "source": [
    "### ソースコード3 ‘crabs’の中身を表示"
   ]
  },
  {
   "cell_type": "code",
   "execution_count": 3,
   "metadata": {},
   "outputs": [
    {
     "name": "stdout",
     "output_type": "stream",
     "text": [
      "<class 'pandas.core.frame.DataFrame'>\n",
      "    sp sex  index    FL    RW    CL    CW    BD\n",
      "1    B   M      1   8.1   6.7  16.1  19.0   7.0\n",
      "2    B   M      2   8.8   7.7  18.1  20.8   7.4\n",
      "3    B   M      3   9.2   7.8  19.0  22.4   7.7\n",
      "4    B   M      4   9.6   7.9  20.1  23.1   8.2\n",
      "5    B   M      5   9.8   8.0  20.3  23.0   8.2\n",
      "6    B   M      6  10.8   9.0  23.0  26.5   9.8\n",
      "7    B   M      7  11.1   9.9  23.8  27.1   9.8\n",
      "8    B   M      8  11.6   9.1  24.5  28.4  10.4\n",
      "9    B   M      9  11.8   9.6  24.2  27.8   9.7\n",
      "10   B   M     10  11.8  10.5  25.2  29.3  10.3\n",
      "11   B   M     11  12.2  10.8  27.3  31.6  10.9\n",
      "12   B   M     12  12.3  11.0  26.8  31.5  11.4\n",
      "13   B   M     13  12.6  10.0  27.7  31.7  11.4\n",
      "14   B   M     14  12.8  10.2  27.2  31.8  10.9\n",
      "15   B   M     15  12.8  10.9  27.4  31.5  11.0\n",
      "16   B   M     16  12.9  11.0  26.8  30.9  11.4\n",
      "17   B   M     17  13.1  10.6  28.2  32.3  11.0\n",
      "18   B   M     18  13.1  10.9  28.3  32.4  11.2\n",
      "19   B   M     19  13.3  11.1  27.8  32.3  11.3\n",
      "20   B   M     20  13.9  11.1  29.2  33.3  12.1\n",
      "21   B   M     21  14.3  11.6  31.3  35.5  12.7\n",
      "22   B   M     22  14.6  11.3  31.9  36.4  13.7\n",
      "23   B   M     23  15.0  10.9  31.4  36.4  13.2\n",
      "24   B   M     24  15.0  11.5  32.4  37.0  13.4\n",
      "25   B   M     25  15.0  11.9  32.5  37.2  13.6\n",
      "26   B   M     26  15.2  12.1  32.3  36.7  13.6\n",
      "27   B   M     27  15.4  11.8  33.0  37.5  13.6\n",
      "28   B   M     28  15.7  12.6  35.8  40.3  14.5\n",
      "29   B   M     29  15.9  12.7  34.0  38.9  14.2\n",
      "30   B   M     30  16.1  11.6  33.8  39.0  14.4\n",
      "31   B   M     31  16.1  12.8  34.9  40.7  15.7\n",
      "32   B   M     32  16.2  13.3  36.0  41.7  15.4\n",
      "33   B   M     33  16.3  12.7  35.6  40.9  14.9\n",
      "34   B   M     34  16.4  13.0  35.7  41.8  15.2\n",
      "35   B   M     35  16.6  13.5  38.1  43.4  14.9\n",
      "36   B   M     36  16.8  12.8  36.2  41.8  14.9\n",
      "37   B   M     37  16.9  13.2  37.3  42.7  15.6\n",
      "38   B   M     38  17.1  12.6  36.4  42.0  15.1\n",
      "39   B   M     39  17.1  12.7  36.7  41.9  15.6\n",
      "40   B   M     40  17.2  13.5  37.6  43.9  16.1\n",
      "41   B   M     41  17.7  13.6  38.7  44.5  16.0\n",
      "42   B   M     42  17.9  14.1  39.7  44.6  16.8\n",
      "43   B   M     43  18.0  13.7  39.2  44.4  16.2\n",
      "44   B   M     44  18.8  15.8  42.1  49.0  17.8\n",
      "45   B   M     45  19.3  13.5  41.6  47.4  17.8\n",
      "46   B   M     46  19.3  13.8  40.9  46.5  16.8\n",
      "47   B   M     47  19.7  15.3  41.9  48.5  17.8\n",
      "48   B   M     48  19.8  14.2  43.2  49.7  18.6\n",
      "49   B   M     49  19.8  14.3  42.4  48.9  18.3\n",
      "50   B   M     50  21.3  15.7  47.1  54.6  20.0\n",
      "51   B   F      1   7.2   6.5  14.7  17.1   6.1\n",
      "52   B   F      2   9.0   8.5  19.3  22.7   7.7\n",
      "53   B   F      3   9.1   8.1  18.5  21.6   7.7\n",
      "54   B   F      4   9.1   8.2  19.2  22.2   7.7\n",
      "55   B   F      5   9.5   8.2  19.6  22.4   7.8\n",
      "56   B   F      6   9.8   8.9  20.4  23.9   8.8\n",
      "57   B   F      7  10.1   9.3  20.9  24.4   8.4\n",
      "58   B   F      8  10.3   9.5  21.3  24.7   8.9\n",
      "59   B   F      9  10.4   9.7  21.7  25.4   8.3\n",
      "60   B   F     10  10.8   9.5  22.5  26.3   9.1\n",
      "61   B   F     11  11.0   9.8  22.5  25.7   8.2\n",
      "62   B   F     12  11.2  10.0  22.8  26.9   9.4\n",
      "63   B   F     13  11.5  11.0  24.7  29.2  10.1\n",
      "64   B   F     14  11.6  11.0  24.6  28.5  10.4\n",
      "65   B   F     15  11.6  11.4  23.7  27.7  10.0\n",
      "66   B   F     16  11.7  10.6  24.9  28.5  10.4\n",
      "67   B   F     17  11.9  11.4  26.0  30.1  10.9\n",
      "68   B   F     18  12.0  10.7  24.6  28.9  10.5\n",
      "69   B   F     19  12.0  11.1  25.4  29.2  11.0\n",
      "70   B   F     20  12.6  12.2  26.1  31.6  11.2\n",
      "71   B   F     21  12.8  11.7  27.1  31.2  11.9\n",
      "72   B   F     22  12.8  12.2  26.7  31.1  11.1\n",
      "73   B   F     23  12.8  12.2  27.9  31.9  11.5\n",
      "74   B   F     24  13.0  11.4  27.3  31.8  11.3\n",
      "75   B   F     25  13.1  11.5  27.6  32.6  11.1\n",
      "76   B   F     26  13.2  12.2  27.9  32.1  11.5\n",
      "77   B   F     27  13.4  11.8  28.4  32.7  11.7\n",
      "78   B   F     28  13.7  12.5  28.6  33.8  11.9\n",
      "79   B   F     29  13.9  13.0  30.0  34.9  13.1\n",
      "80   B   F     30  14.7  12.5  30.1  34.7  12.5\n",
      "81   B   F     31  14.9  13.2  30.1  35.6  12.0\n",
      "82   B   F     32  15.0  13.8  31.7  36.9  14.0\n",
      "83   B   F     33  15.0  14.2  32.8  37.4  14.0\n",
      "84   B   F     34  15.1  13.3  31.8  36.3  13.5\n",
      "85   B   F     35  15.1  13.5  31.9  37.0  13.8\n",
      "86   B   F     36  15.1  13.8  31.7  36.6  13.0\n",
      "87   B   F     37  15.2  14.3  33.9  38.5  14.7\n",
      "88   B   F     38  15.3  14.2  32.6  38.3  13.8\n",
      "89   B   F     39  15.4  13.3  32.4  37.6  13.8\n",
      "90   B   F     40  15.5  13.8  33.4  38.7  14.7\n",
      "91   B   F     41  15.6  13.9  32.8  37.9  13.4\n",
      "92   B   F     42  15.6  14.7  33.9  39.5  14.3\n",
      "93   B   F     43  15.7  13.9  33.6  38.5  14.1\n",
      "94   B   F     44  15.8  15.0  34.5  40.3  15.3\n",
      "95   B   F     45  16.2  15.2  34.5  40.1  13.9\n",
      "96   B   F     46  16.4  14.0  34.2  39.8  15.2\n",
      "97   B   F     47  16.7  16.1  36.6  41.9  15.4\n",
      "98   B   F     48  17.4  16.9  38.2  44.1  16.6\n",
      "99   B   F     49  17.5  16.7  38.6  44.5  17.0\n",
      "100  B   F     50  19.2  16.5  40.9  47.9  18.1\n",
      "101  O   M      1   9.1   6.9  16.7  18.6   7.4\n",
      "102  O   M      2  10.2   8.2  20.2  22.2   9.0\n",
      "103  O   M      3  10.7   8.6  20.7  22.7   9.2\n",
      "104  O   M      4  11.4   9.0  22.7  24.8  10.1\n",
      "105  O   M      5  12.5   9.4  23.2  26.0  10.8\n",
      "106  O   M      6  12.5   9.4  24.2  27.0  11.2\n",
      "107  O   M      7  12.7  10.4  26.0  28.8  12.1\n",
      "108  O   M      8  13.2  11.0  27.1  30.4  12.2\n",
      "109  O   M      9  13.4  10.1  26.6  29.6  12.0\n",
      "110  O   M     10  13.7  11.0  27.5  30.5  12.2\n",
      "111  O   M     11  14.0  11.5  29.2  32.2  13.1\n",
      "112  O   M     12  14.1  10.4  28.9  31.8  13.5\n",
      "113  O   M     13  14.1  10.5  29.1  31.6  13.1\n",
      "114  O   M     14  14.1  10.7  28.7  31.9  13.3\n",
      "115  O   M     15  14.2  10.6  28.7  31.7  12.9\n",
      "116  O   M     16  14.2  10.7  27.8  30.9  12.7\n",
      "117  O   M     17  14.2  11.3  29.2  32.2  13.5\n",
      "118  O   M     18  14.6  11.3  29.9  33.5  12.8\n",
      "119  O   M     19  14.7  11.1  29.0  32.1  13.1\n",
      "120  O   M     20  15.1  11.4  30.2  33.3  14.0\n",
      "121  O   M     21  15.1  11.5  30.9  34.0  13.9\n",
      "122  O   M     22  15.4  11.1  30.2  33.6  13.5\n",
      "123  O   M     23  15.7  12.2  31.7  34.2  14.2\n",
      "124  O   M     24  16.2  11.8  32.3  35.3  14.7\n",
      "125  O   M     25  16.3  11.6  31.6  34.2  14.5\n",
      "126  O   M     26  17.1  12.6  35.0  38.9  15.7\n",
      "127  O   M     27  17.4  12.8  36.1  39.5  16.2\n",
      "128  O   M     28  17.5  12.0  34.4  37.3  15.3\n",
      "129  O   M     29  17.5  12.7  34.6  38.4  16.1\n",
      "130  O   M     30  17.8  12.5  36.0  39.8  16.7\n",
      "131  O   M     31  17.9  12.9  36.9  40.9  16.5\n",
      "132  O   M     32  18.0  13.4  36.7  41.3  17.1\n",
      "133  O   M     33  18.2  13.7  38.8  42.7  17.2\n",
      "134  O   M     34  18.4  13.4  37.9  42.2  17.7\n",
      "135  O   M     35  18.6  13.4  37.8  41.9  17.3\n",
      "136  O   M     36  18.6  13.5  36.9  40.2  17.0\n",
      "137  O   M     37  18.8  13.4  37.2  41.1  17.5\n",
      "138  O   M     38  18.8  13.8  39.2  43.3  17.9\n",
      "139  O   M     39  19.4  14.1  39.1  43.2  17.8\n",
      "140  O   M     40  19.4  14.4  39.8  44.3  17.9\n",
      "141  O   M     41  20.1  13.7  40.6  44.5  18.0\n",
      "142  O   M     42  20.6  14.4  42.8  46.5  19.6\n",
      "143  O   M     43  21.0  15.0  42.9  47.2  19.4\n",
      "144  O   M     44  21.5  15.5  45.5  49.7  20.9\n",
      "145  O   M     45  21.6  15.4  45.7  49.7  20.6\n",
      "146  O   M     46  21.6  14.8  43.4  48.2  20.1\n",
      "147  O   M     47  21.9  15.7  45.4  51.0  21.1\n",
      "148  O   M     48  22.1  15.8  44.6  49.6  20.5\n",
      "149  O   M     49  23.0  16.8  47.2  52.1  21.5\n",
      "150  O   M     50  23.1  15.7  47.6  52.8  21.6\n",
      "151  O   F      1  10.7   9.7  21.4  24.0   9.8\n",
      "152  O   F      2  11.4   9.2  21.7  24.1   9.7\n",
      "153  O   F      3  12.5  10.0  24.1  27.0  10.9\n",
      "154  O   F      4  12.6  11.5  25.0  28.1  11.5\n",
      "155  O   F      5  12.9  11.2  25.8  29.1  11.9\n",
      "156  O   F      6  14.0  11.9  27.0  31.4  12.6\n",
      "157  O   F      7  14.0  12.8  28.8  32.4  12.7\n",
      "158  O   F      8  14.3  12.2  28.1  31.8  12.5\n",
      "159  O   F      9  14.7  13.2  29.6  33.4  12.9\n",
      "160  O   F     10  14.9  13.0  30.0  33.7  13.3\n",
      "161  O   F     11  15.0  12.3  30.1  33.3  14.0\n",
      "162  O   F     12  15.6  13.5  31.2  35.1  14.1\n",
      "163  O   F     13  15.6  14.0  31.6  35.3  13.8\n",
      "164  O   F     14  15.6  14.1  31.0  34.5  13.8\n",
      "165  O   F     15  15.7  13.6  31.0  34.8  13.8\n",
      "166  O   F     16  16.1  13.6  31.6  36.0  14.0\n",
      "167  O   F     17  16.1  13.7  31.4  36.1  13.9\n",
      "168  O   F     18  16.2  14.0  31.6  35.6  13.7\n",
      "169  O   F     19  16.7  14.3  32.3  37.0  14.7\n",
      "170  O   F     20  17.1  14.5  33.1  37.2  14.6\n",
      "171  O   F     21  17.5  14.3  34.5  39.6  15.6\n",
      "172  O   F     22  17.5  14.4  34.5  39.0  16.0\n",
      "173  O   F     23  17.5  14.7  33.3  37.6  14.6\n",
      "174  O   F     24  17.6  14.0  34.0  38.6  15.5\n",
      "175  O   F     25  18.0  14.9  34.7  39.5  15.7\n",
      "176  O   F     26  18.0  16.3  37.9  43.0  17.2\n",
      "177  O   F     27  18.3  15.7  35.1  40.5  16.1\n",
      "178  O   F     28  18.4  15.5  35.6  40.0  15.9\n",
      "179  O   F     29  18.4  15.7  36.5  41.6  16.4\n",
      "180  O   F     30  18.5  14.6  37.0  42.0  16.6\n",
      "181  O   F     31  18.6  14.5  34.7  39.4  15.0\n",
      "182  O   F     32  18.8  15.2  35.8  40.5  16.6\n",
      "183  O   F     33  18.9  16.7  36.3  41.7  15.3\n",
      "184  O   F     34  19.1  16.0  37.8  42.3  16.8\n",
      "185  O   F     35  19.1  16.3  37.9  42.6  17.2\n",
      "186  O   F     36  19.7  16.7  39.9  43.6  18.2\n",
      "187  O   F     37  19.9  16.6  39.4  43.9  17.9\n",
      "188  O   F     38  19.9  17.9  40.1  46.4  17.9\n",
      "189  O   F     39  20.0  16.7  40.4  45.1  17.7\n",
      "190  O   F     40  20.1  17.2  39.8  44.1  18.6\n",
      "191  O   F     41  20.3  16.0  39.4  44.1  18.0\n",
      "192  O   F     42  20.5  17.5  40.0  45.5  19.2\n",
      "193  O   F     43  20.6  17.5  41.5  46.2  19.2\n",
      "194  O   F     44  20.9  16.5  39.9  44.7  17.5\n",
      "195  O   F     45  21.3  18.4  43.8  48.4  20.0\n",
      "196  O   F     46  21.4  18.0  41.2  46.2  18.7\n",
      "197  O   F     47  21.7  17.1  41.7  47.2  19.6\n",
      "198  O   F     48  21.9  17.2  42.6  47.4  19.5\n",
      "199  O   F     49  22.5  17.2  43.0  48.7  19.8\n",
      "200  O   F     50  23.1  20.2  46.2  52.5  21.1\n"
     ]
    }
   ],
   "source": [
    "import pandas as pd # pandasをインポート\n",
    "df = data('crabs') # `crabs'のデータフレームを格納\n",
    "print(type(df)) # crabsのデータセットの型を表示\n",
    "\n",
    "pd.set_option('display.max_rows',200) # データセットの中身を200行目まで表示する\n",
    "print(df) # `crabs'の中身を表示"
   ]
  },
  {
   "cell_type": "markdown",
   "metadata": {},
   "source": [
    "### ソースコード4　データセットの説明文を表示"
   ]
  },
  {
   "cell_type": "code",
   "execution_count": 4,
   "metadata": {},
   "outputs": [
    {
     "name": "stdout",
     "output_type": "stream",
     "text": [
      "crabs\n",
      "\n",
      "PyDataset Documentation (adopted from R Documentation. The displayed examples are in R)\n",
      "\n",
      "##  Morphological Measurements on Leptograpsus Crabs\n",
      "\n",
      "### Description\n",
      "\n",
      "The `crabs` data frame has 200 rows and 8 columns, describing 5 morphological\n",
      "measurements on 50 crabs each of two colour forms and both sexes, of the\n",
      "species _Leptograpsus variegatus_ collected at Fremantle, W. Australia.\n",
      "\n",
      "### Usage\n",
      "\n",
      "    crabs\n",
      "\n",
      "### Format\n",
      "\n",
      "This data frame contains the following columns:\n",
      "\n",
      "`sp`\n",
      "\n",
      "`species` \\- `\"B\"` or `\"O\"` for blue or orange.\n",
      "\n",
      "`sex`\n",
      "\n",
      "as it says.\n",
      "\n",
      "`index`\n",
      "\n",
      "index `1:50` within each of the four groups.\n",
      "\n",
      "`FL`\n",
      "\n",
      "frontal lobe size (mm).\n",
      "\n",
      "`RW`\n",
      "\n",
      "rear width (mm).\n",
      "\n",
      "`CL`\n",
      "\n",
      "carapace length (mm).\n",
      "\n",
      "`CW`\n",
      "\n",
      "carapace width (mm).\n",
      "\n",
      "`BD`\n",
      "\n",
      "body depth (mm).\n",
      "\n",
      "### Source\n",
      "\n",
      "Campbell, N.A. and Mahon, R.J. (1974) A multivariate study of variation in two\n",
      "species of rock crab of genus _Leptograpsus._ _Australian Journal of Zoology_\n",
      "**22**, 417–425.\n",
      "\n",
      "### References\n",
      "\n",
      "Venables, W. N. and Ripley, B. D. (2002) _Modern Applied Statistics with S._\n",
      "Fourth edition. Springer.\n",
      "\n",
      "\n"
     ]
    }
   ],
   "source": [
    "data('crabs',show_doc=True) # データセットの説明文を表示"
   ]
  },
  {
   "cell_type": "markdown",
   "metadata": {},
   "source": [
    "### ソースコード5 基本統計量の計算"
   ]
  },
  {
   "cell_type": "code",
   "execution_count": 5,
   "metadata": {},
   "outputs": [
    {
     "name": "stdout",
     "output_type": "stream",
     "text": [
      "平均\n",
      "index    25.5000\n",
      "FL       15.5830\n",
      "RW       12.7385\n",
      "CL       32.1055\n",
      "CW       36.4145\n",
      "BD       14.0305\n",
      "dtype: float64\n",
      "\n",
      "中央値\n",
      "index    25.50\n",
      "FL       15.55\n",
      "RW       12.80\n",
      "CL       32.10\n",
      "CW       36.80\n",
      "BD       13.90\n",
      "dtype: float64\n",
      "\n",
      "最大値\n",
      "sp          O\n",
      "sex         M\n",
      "index      50\n",
      "FL       23.1\n",
      "RW       20.2\n",
      "CL       47.6\n",
      "CW       54.6\n",
      "BD       21.6\n",
      "dtype: object\n",
      "\n",
      "最小値\n",
      "sp          B\n",
      "sex         F\n",
      "index       1\n",
      "FL        7.2\n",
      "RW        6.5\n",
      "CL       14.7\n",
      "CW       17.1\n",
      "BD        6.1\n",
      "dtype: object\n",
      "\n",
      "データ数\n",
      "sp       200\n",
      "sex      200\n",
      "index    200\n",
      "FL       200\n",
      "RW       200\n",
      "CL       200\n",
      "CW       200\n",
      "BD       200\n",
      "dtype: int64\n",
      "\n",
      "分散\n",
      "index    209.296482\n",
      "FL        12.217297\n",
      "RW         6.622078\n",
      "CL        50.679919\n",
      "CW        61.967678\n",
      "BD        11.729065\n",
      "dtype: float64\n",
      "\n",
      "標準偏差\n",
      "index    14.467083\n",
      "FL        3.495325\n",
      "RW        2.573340\n",
      "CL        7.118983\n",
      "CW        7.871955\n",
      "BD        3.424772\n",
      "dtype: float64\n",
      "\n",
      "相関係数\n",
      "          index        FL        RW        CL        CW        BD\n",
      "index  1.000000  0.862876  0.840040  0.911436  0.928248  0.864459\n",
      "FL     0.862876  1.000000  0.906988  0.978842  0.964956  0.987627\n",
      "RW     0.840040  0.906988  1.000000  0.892743  0.900402  0.889205\n",
      "CL     0.911436  0.978842  0.892743  1.000000  0.995023  0.983204\n",
      "CW     0.928248  0.964956  0.900402  0.995023  1.000000  0.967812\n",
      "BD     0.864459  0.987627  0.889205  0.983204  0.967812  1.000000\n"
     ]
    }
   ],
   "source": [
    "df = data('crabs')    # 'crabs'のデータフレームを格納\n",
    "\n",
    "# 列ごとに基本統計量を計算\n",
    "print('平均')\n",
    "print(df.mean())    # 平均\n",
    "\n",
    "print('\\n中央値')\n",
    "print(df.median())    # 中央値\n",
    "\n",
    "print('\\n最大値')\n",
    "print(df.max())    # 最大値\n",
    "\n",
    "print('\\n最小値')\n",
    "print(df.min())    # 最小値\n",
    "\n",
    "print('\\nデータ数')\n",
    "print(df.count())    # データ数\n",
    "\n",
    "print('\\n分散')\n",
    "print(df.var())    # 分散\n",
    "\n",
    "print('\\n標準偏差')\n",
    "print(df.std())    # 標準偏差\n",
    "\n",
    "# 各列が表す要素間の相関係数を計算\n",
    "print('\\n相関係数')\n",
    "print(df.corr())"
   ]
  },
  {
   "cell_type": "markdown",
   "metadata": {},
   "source": [
    "### ソースコード6 甲幅とはさみ状前足サイズの関係を散布図表示"
   ]
  },
  {
   "cell_type": "code",
   "execution_count": 6,
   "metadata": {},
   "outputs": [
    {
     "data": {
      "image/png": "[encoded data removed]",
      "text/plain": [
       "<Figure size 648x432 with 1 Axes>"
      ]
     },
     "metadata": {
      "needs_background": "light"
     },
     "output_type": "display_data"
    }
   ],
   "source": [
    "%matplotlib inline\n",
    "import matplotlib.pyplot as plt    #Matplotlibのインポート\n",
    "\n",
    "x = df.CW    # 甲幅\n",
    "y = df.FL    # はさみ状前足サイズ\n",
    "\n",
    "# 「甲幅」と「はさみ状前足サイズ」の関係を散布図表示\n",
    "plt.figure(figsize=(9, 6))\n",
    "plt.scatter(x, y)\n",
    "plt.xlabel('carapace width (mm)', fontsize = 18)\n",
    "plt.ylabel('frontal lobe size (mm)', fontsize = 18)\n",
    "plt.grid(True)"
   ]
  },
  {
   "cell_type": "markdown",
   "metadata": {},
   "source": [
    "### ソースコード7 性ごとに散布図表示"
   ]
  },
  {
   "cell_type": "code",
   "execution_count": 12,
   "metadata": {},
   "outputs": [
    {
     "data": {
      "image/png": "[encoded data removed]",
      "text/plain": [
       "<Figure size 648x432 with 1 Axes>"
      ]
     },
     "metadata": {
      "needs_background": "light"
     },
     "output_type": "display_data"
    }
   ],
   "source": [
    "import matplotlib.pyplot as plt\n",
    "%matplotlib inline\n",
    "\n",
    "x_m = [df.CW[i] for i in range(1, 201) if df.sex[i] == 'M']\n",
    "y_m = [df.FL[i] for i in range(1, 201) if df.sex[i] == 'M']\n",
    "x_f = [df.CW[i] for i in range(1, 201) if df.sex[i] == 'F']\n",
    "y_f = [df.FL[i] for i in range(1, 201) if df.sex[i] == 'F']\n",
    "\n",
    "fig = plt.figure(figsize=(9, 6))\n",
    "plt.scatter(x_m, y_m, marker = \"o\", c=\"black\", label = \"male\")\n",
    "plt.scatter(x_f, y_f, marker = \"x\", c=\"red\", label = \"female\")\n",
    "plt.xlabel('carapace width (mm)', fontsize = 18)\n",
    "plt.ylabel('frontal lobe size (mm)', fontsize = 18)\n",
    "plt.legend(fontsize=24)\n",
    "plt.grid(True)"
   ]
  },
  {
   "cell_type": "markdown",
   "metadata": {},
   "source": [
    "### ソースコード8 種ごとに散布図表示"
   ]
  },
  {
   "cell_type": "code",
   "execution_count": 10,
   "metadata": {},
   "outputs": [
    {
     "data": {
      "image/png": "[encoded data removed]",
      "text/plain": [
       "<Figure size 648x432 with 1 Axes>"
      ]
     },
     "metadata": {
      "needs_background": "light"
     },
     "output_type": "display_data"
    }
   ],
   "source": [
    "%matplotlib inline\n",
    "import matplotlib.pyplot as plt    #Matplotlibのインポート\n",
    "\n",
    "#sp（種）がB（Blue）のもの\n",
    "x_b = [[df.CW[i]] for i in range(1, 201) if df.sp[i] == 'B'] \n",
    "y_b = [[df.FL[i]] for i in range(1, 201) if df.sp[i] == 'B']\n",
    "\n",
    "#sp（種）がO（Orange）のもの\n",
    "x_o = [[df.CW[i]] for i in range(1, 201) if df.sp[i] == 'O']\n",
    "y_o = [[df.FL[i]] for i in range(1, 201) if df.sp[i] == 'O']\n",
    "\n",
    "# 種ごとに散布図表示\n",
    "plt.figure(figsize=(9, 6))\n",
    "plt.scatter(x_b, y_b, marker=\"x\", label=\"blue\")\n",
    "plt.scatter(x_o, y_o, marker=\"o\", label=\"orange\")\n",
    "plt.xlabel('carapace width (mm)', fontsize = 18)\n",
    "plt.ylabel('frontal lobe size (mm)', fontsize = 18)\n",
    "plt.legend()\n",
    "plt.grid(True)"
   ]
  },
  {
   "cell_type": "markdown",
   "metadata": {},
   "source": [
    "### ソースコード9 切片，傾きの算出と回帰直線の図示"
   ]
  },
  {
   "cell_type": "code",
   "execution_count": 14,
   "metadata": {},
   "outputs": [
    {
     "name": "stdout",
     "output_type": "stream",
     "text": [
      "blue\n",
      "coefficient =  [0.38210168]\n",
      "intercept =  [0.79057614]\n",
      "\n",
      "orange\n",
      "coefficient =  [0.43068089]\n",
      "intercept =  [0.69588995]\n"
     ]
    },
    {
     "data": {
      "image/png": "[encoded data removed]",
      "text/plain": [
       "<Figure size 648x432 with 1 Axes>"
      ]
     },
     "metadata": {
      "needs_background": "light"
     },
     "output_type": "display_data"
    }
   ],
   "source": [
    "from sklearn.linear_model import LinearRegression\n",
    "\n",
    "# 青の種について線形回帰\n",
    "lr1 = LinearRegression()    \n",
    "lr1.fit(x_b, y_b)    # CW(甲幅)とFL(はさみ状前足サイズ)の関係を学習\n",
    "print('blue')\n",
    "print('coefficient = ', lr1.coef_[0])    # 学習によって得た回帰係数を出力\n",
    "print('intercept = ', lr1.intercept_)    # 学習によって得た回帰直線の切片を出力\n",
    "\n",
    "# オレンジの種について線形回帰\n",
    "lr2 = LinearRegression()\n",
    "lr2.fit(x_o, y_o)\n",
    "print('\\norange')\n",
    "print('coefficient = ', lr2.coef_[0])    \n",
    "print('intercept = ', lr2.intercept_)    \n",
    "\n",
    "# 図示\n",
    "plt.figure(figsize=(9, 6))\n",
    "plt.scatter(x_b, y_b, marker=\"x\", label=\"blue\")\n",
    "plt.scatter(x_o, y_o, marker=\"o\", label=\"orange\")\n",
    "plt.plot(x_b, lr1.predict(x_b))\n",
    "plt.plot(x_o, lr2.predict(x_o))\n",
    "plt.xlabel('carapace width (mm)', fontsize = 18)\n",
    "plt.ylabel('frontal lobe size (mm)', fontsize = 18)\n",
    "plt.legend(fontsize=24)\n",
    "plt.grid(True)"
   ]
  }
 ],
 "metadata": {
  "kernelspec": {
   "display_name": "Python 3",
   "language": "python",
   "name": "python3"
  },
  "language_info": {
   "codemirror_mode": {
    "name": "ipython",
    "version": 3
   },
   "file_extension": ".py",
   "mimetype": "text/x-python",
   "name": "python",
   "nbconvert_exporter": "python",
   "pygments_lexer": "ipython3",
   "version": "3.8.3"
  }
 },
 "nbformat": 4,
 "nbformat_minor": 4
}
