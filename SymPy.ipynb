{
 "cells": [
  {
   "cell_type": "markdown",
   "metadata": {},
   "source": [
    "### SymPy入門"
   ]
  },
  {
   "cell_type": "code",
   "execution_count": 1,
   "metadata": {},
   "outputs": [
    {
     "name": "stdout",
     "output_type": "stream",
     "text": [
      "3*x + 1\n"
     ]
    },
    {
     "data": {
      "text/latex": [
       "$\\displaystyle 3 x + 1$"
      ],
      "text/plain": [
       "3*x + 1"
      ]
     },
     "metadata": {},
     "output_type": "display_data"
    }
   ],
   "source": [
    "import sympy as sp\n",
    "x = sp.Symbol('x')\n",
    "print(x+x+x+1)\n",
    "# display()関数で見やすい形になる\n",
    "display(x+x+x+1)"
   ]
  },
  {
   "cell_type": "code",
   "execution_count": 2,
   "metadata": {},
   "outputs": [
    {
     "data": {
      "text/latex": [
       "$\\displaystyle x \\left(x + y + z\\right)$"
      ],
      "text/plain": [
       "x*(x + y + z)"
      ]
     },
     "metadata": {},
     "output_type": "display_data"
    },
    {
     "data": {
      "text/latex": [
       "$\\displaystyle a^{2} \\left(b + c\\right)$"
      ],
      "text/plain": [
       "a**2*(b + c)"
      ]
     },
     "metadata": {},
     "output_type": "display_data"
    }
   ],
   "source": [
    "# 複数記号の導入\n",
    "x, y, z = sp.symbols('x,y,z')\n",
    "expr = x*(x+y+z)\n",
    "display(expr)\n",
    "\n",
    "# 複数記号の導入（別バージョン）\n",
    "sp.var('a,b,c')\n",
    "expr = a*(b+c)*a\n",
    "display(expr)"
   ]
  },
  {
   "cell_type": "code",
   "execution_count": 3,
   "metadata": {},
   "outputs": [
    {
     "data": {
      "text/latex": [
       "$\\displaystyle \\left(x + y\\right)^{3}$"
      ],
      "text/plain": [
       "(x + y)**3"
      ]
     },
     "metadata": {},
     "output_type": "display_data"
    }
   ],
   "source": [
    "# 因数分解\n",
    "sp.var('x,y,z')\n",
    "expr = x**3 + 3*x**2*y + 3*x*y**2 + y**3\n",
    "factors = sp.factor(expr)\n",
    "display(factors)"
   ]
  },
  {
   "cell_type": "code",
   "execution_count": 4,
   "metadata": {},
   "outputs": [
    {
     "data": {
      "text/latex": [
       "$\\displaystyle 2 x$"
      ],
      "text/plain": [
       "2*x"
      ]
     },
     "metadata": {},
     "output_type": "display_data"
    },
    {
     "data": {
      "text/latex": [
       "$\\displaystyle \\cos{\\left(x \\right)}$"
      ],
      "text/plain": [
       "cos(x)"
      ]
     },
     "metadata": {},
     "output_type": "display_data"
    }
   ],
   "source": [
    "# 微分\n",
    "x = sp.Symbol('x')\n",
    "display(sp.diff(x**2, x))\n",
    "display(sp.diff(sp.sin(x), x))"
   ]
  },
  {
   "cell_type": "code",
   "execution_count": 5,
   "metadata": {},
   "outputs": [
    {
     "data": {
      "text/plain": [
       "{x: 24/5, y: -6/5}"
      ]
     },
     "metadata": {},
     "output_type": "display_data"
    }
   ],
   "source": [
    "# 連立方程式を解く\n",
    "sp.var('x,y')\n",
    "expr1 = 2*x + 3*y -6\n",
    "expr2 = 3*x + 2*y -12\n",
    "display(sp.solve((expr1, expr2)))"
   ]
  },
  {
   "cell_type": "code",
   "execution_count": null,
   "metadata": {},
   "outputs": [],
   "source": []
  }
 ],
 "metadata": {
  "kernelspec": {
   "display_name": "Python 3",
   "language": "python",
   "name": "python3"
  },
  "language_info": {
   "codemirror_mode": {
    "name": "ipython",
    "version": 3
   },
   "file_extension": ".py",
   "mimetype": "text/x-python",
   "name": "python",
   "nbconvert_exporter": "python",
   "pygments_lexer": "ipython3",
   "version": "3.7.6"
  }
 },
 "nbformat": 4,
 "nbformat_minor": 4
}
