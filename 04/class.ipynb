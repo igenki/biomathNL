{
 "cells": [
  {
   "cell_type": "markdown",
   "id": "modular-vacation",
   "metadata": {},
   "source": [
    "# 第4回 数理生物研究 $\\times$ 計算機"
   ]
  },
  {
   "cell_type": "markdown",
   "id": "informal-cleaner",
   "metadata": {},
   "source": [
    "# クラスを作ってみる"
   ]
  },
  {
   "cell_type": "markdown",
   "id": "aquatic-madonna",
   "metadata": {},
   "source": [
    "## 例. ランダムウォーカーのクラスを定義\n",
    "* 変数\n",
    "    - `speed` : ランダムウォークの移動量\n",
    "    - `position` : ランダムウォーカーの現在位置\n",
    "    - `trajectory` : ランダムウォーカーの歩いた軌道 (位置のリスト)\n",
    "* メソッド\n",
    "    - `__init__` : 変数の初期化を行う\n",
    "    - `walk` : ランダムウォークさせる\n",
    "    - `show_trajectory` : 歩いた軌道をグラフ化して表示"
   ]
  },
  {
   "cell_type": "code",
   "execution_count": 2,
   "id": "persistent-anatomy",
   "metadata": {},
   "outputs": [],
   "source": [
    "# 必要なライブラリをインポート\n",
    "import matplotlib.pyplot as plt\n",
    "import numpy.random as nprd"
   ]
  },
  {
   "cell_type": "code",
   "execution_count": 3,
   "id": "shared-pride",
   "metadata": {},
   "outputs": [],
   "source": [
    "class RandomWalker:\n",
    "    \n",
    "    # 変数の初期化\n",
    "    def __init__(self, sp=1.0):\n",
    "        self.speed = sp       # 移動量\n",
    "        self.position = 0.0   # 初期位置\n",
    "        # 軌道を記録する\n",
    "        self.trajectory = [self.position]\n",
    "    \n",
    "    # ランダムな方向 (-1 or 1) に一歩歩く\n",
    "    def walk(self):\n",
    "        # -1 or 1 を乱数で生成\n",
    "        tmp = nprd.randint(2)*2 - 1\n",
    "        # 前行で決めた方向に speed だけ移動\n",
    "        self.position += tmp * self.speed\n",
    "        # 軌道を記録する\n",
    "        self.trajectory.append(self.position)\n",
    "        \n",
    "    # 歩いた軌道をグラフ化\n",
    "    def show_trajectory(self):\n",
    "        # 軸ラベルを設定\n",
    "        plt.xlabel('time', fontsize=12)\n",
    "        plt.ylabel('position', fontsize=12)\n",
    "        # 軌道をプロット\n",
    "        plt.plot(self.trajectory)"
   ]
  },
  {
   "cell_type": "markdown",
   "id": "graphic-episode",
   "metadata": {},
   "source": [
    "### インスタンス生成・メソッドの実行"
   ]
  },
  {
   "cell_type": "code",
   "execution_count": 4,
   "id": "dependent-terror",
   "metadata": {},
   "outputs": [
    {
     "data": {
      "image/png": "[encoded data removed]",
      "text/plain": [
       "<Figure size 432x288 with 1 Axes>"
      ]
     },
     "metadata": {
      "needs_background": "light"
     },
     "output_type": "display_data"
    }
   ],
   "source": [
    "# ランダムウォーカーのインスタンスを生成\n",
    "speed = 1.5    # 移動量\n",
    "rw1 = RandomWalker(speed) # 移動量を引数に渡す\n",
    "\n",
    "# 100回ランダムウォークさせる\n",
    "for i in range(100):\n",
    "    rw1.walk()\n",
    "\n",
    "rw1.show_trajectory()      # 軌跡を表示させる"
   ]
  },
  {
   "cell_type": "code",
   "execution_count": null,
   "id": "swedish-grove",
   "metadata": {},
   "outputs": [],
   "source": []
  }
 ],
 "metadata": {
  "kernelspec": {
   "display_name": "Python 3",
   "language": "python",
   "name": "python3"
  },
  "language_info": {
   "codemirror_mode": {
    "name": "ipython",
    "version": 3
   },
   "file_extension": ".py",
   "mimetype": "text/x-python",
   "name": "python",
   "nbconvert_exporter": "python",
   "pygments_lexer": "ipython3",
   "version": "3.8.8"
  }
 },
 "nbformat": 4,
 "nbformat_minor": 5
}
