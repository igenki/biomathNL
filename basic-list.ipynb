{
 "cells": [
  {
   "cell_type": "markdown",
   "metadata": {},
   "source": [
    "# 簡単なプログラム"
   ]
  },
  {
   "cell_type": "code",
   "execution_count": 1,
   "metadata": {},
   "outputs": [
    {
     "data": {
      "text/plain": [
       "2"
      ]
     },
     "execution_count": 1,
     "metadata": {},
     "output_type": "execute_result"
    }
   ],
   "source": [
    "1+1"
   ]
  },
  {
   "cell_type": "code",
   "execution_count": 2,
   "metadata": {},
   "outputs": [
    {
     "name": "stdout",
     "output_type": "stream",
     "text": [
      "2\n"
     ]
    }
   ],
   "source": [
    "# 対話形式のJupyterでは結果が出力されるが，Python(.py)形式では何もつけないと出力されない\n",
    "# print()関数を使って結果が明示的に出力されるようにしよう\n",
    "print(1+1)"
   ]
  },
  {
   "cell_type": "code",
   "execution_count": 3,
   "metadata": {},
   "outputs": [
    {
     "name": "stdout",
     "output_type": "stream",
     "text": [
      "1\n",
      "8\n",
      "3.3333333333333335\n"
     ]
    }
   ],
   "source": [
    "print(3-2) # 引き算\n",
    "print(2*4) # 掛け算\n",
    "print(10/3) #割り算"
   ]
  },
  {
   "cell_type": "code",
   "execution_count": 4,
   "metadata": {},
   "outputs": [
    {
     "name": "stdout",
     "output_type": "stream",
     "text": [
      "3\n",
      "1\n"
     ]
    }
   ],
   "source": [
    "print(10//3) # 割り算の商のみ\n",
    "print(10%3) # 割り算の余りのみ"
   ]
  },
  {
   "cell_type": "code",
   "execution_count": 5,
   "metadata": {},
   "outputs": [
    {
     "data": {
      "text/plain": [
       "16"
      ]
     },
     "execution_count": 5,
     "metadata": {},
     "output_type": "execute_result"
    }
   ],
   "source": [
    "2**4 # べき乗"
   ]
  },
  {
   "cell_type": "code",
   "execution_count": 6,
   "metadata": {},
   "outputs": [
    {
     "name": "stdout",
     "output_type": "stream",
     "text": [
      "Hello World\n",
      "Hello\n"
     ]
    }
   ],
   "source": [
    "print('Hello World') # シングルかダブルクォーテーションで囲まれたものは文字列\n",
    "print(\"Hello\")"
   ]
  },
  {
   "cell_type": "code",
   "execution_count": 7,
   "metadata": {},
   "outputs": [
    {
     "name": "stdout",
     "output_type": "stream",
     "text": [
      "Hello こんにちは\n"
     ]
    }
   ],
   "source": [
    "print('Hello', 'こんにちは') # 複数の値の指定．カンマで区切る．値の間には半角スペースが入る"
   ]
  },
  {
   "cell_type": "code",
   "execution_count": 8,
   "metadata": {},
   "outputs": [
    {
     "name": "stdout",
     "output_type": "stream",
     "text": [
      "1 3 4\n"
     ]
    }
   ],
   "source": [
    "a = 1 # 変数の利用\n",
    "b = 3\n",
    "print(a, b, a+b)"
   ]
  },
  {
   "cell_type": "code",
   "execution_count": 9,
   "metadata": {},
   "outputs": [
    {
     "name": "stdout",
     "output_type": "stream",
     "text": [
      "5 3\n",
      "変数aに変数bを代入\n",
      "a= 3 , b= 3\n"
     ]
    }
   ],
   "source": [
    "a=5\n",
    "b=3\n",
    "print(a,b)\n",
    "print('変数aに変数bを代入')\n",
    "a=b\n",
    "print('a=',a,', b=',b, sep=' ') # 文字列と数値を同時に出す．sepは区切り文字の指定．ここでは半角スペース"
   ]
  },
  {
   "cell_type": "code",
   "execution_count": 10,
   "metadata": {},
   "outputs": [
    {
     "name": "stdout",
     "output_type": "stream",
     "text": [
      "<class 'int'>\n",
      "<class 'str'>\n"
     ]
    }
   ],
   "source": [
    "a=2\n",
    "b='3'\n",
    "print(type(a)) # type()を使うと変数の型を調べることができる\n",
    "print(type(b)) # bは文字列として認識．Pythonは型を自動認識．intやStringなど指定する必要がない！"
   ]
  },
  {
   "cell_type": "code",
   "execution_count": 11,
   "metadata": {},
   "outputs": [
    {
     "name": "stdout",
     "output_type": "stream",
     "text": [
      "おはようございます\n"
     ]
    }
   ],
   "source": [
    "print('おはよう'+'ございます') # 文字列の連結"
   ]
  },
  {
   "cell_type": "code",
   "execution_count": 12,
   "metadata": {},
   "outputs": [
    {
     "name": "stdout",
     "output_type": "stream",
     "text": [
      "あいうえお\n"
     ]
    }
   ],
   "source": [
    "a='あいう'\n",
    "b='えお'\n",
    "c=a+b # 変数に入れてから文字列を連結\n",
    "print(c)"
   ]
  },
  {
   "cell_type": "code",
   "execution_count": 13,
   "metadata": {},
   "outputs": [
    {
     "name": "stdout",
     "output_type": "stream",
     "text": [
      "go!go!go!go!go!\n"
     ]
    }
   ],
   "source": [
    "a='go!'\n",
    "b=a*5 # 文字列の繰り返し\n",
    "print(b)"
   ]
  },
  {
   "cell_type": "code",
   "execution_count": 14,
   "metadata": {},
   "outputs": [
    {
     "name": "stdout",
     "output_type": "stream",
     "text": [
      "abcdefg\n",
      "c\n",
      "f\n"
     ]
    }
   ],
   "source": [
    "a='abcdefg'\n",
    "print(a)\n",
    "print(a[2]) # 文字列中の文字の参照．配列を用いる．インデックスは0から始まる\n",
    "print(a[-2])"
   ]
  },
  {
   "cell_type": "code",
   "execution_count": 15,
   "metadata": {},
   "outputs": [
    {
     "name": "stdout",
     "output_type": "stream",
     "text": [
      "110\n",
      "100\n",
      "1000\n",
      "100.0\n"
     ]
    }
   ],
   "source": [
    "# 様々な代入演算子\n",
    "a=100\n",
    "a+=10 # a=a+bと同じ．ちなみにpythonでは1増やすときa++とはかけないのでa+=1と書く\n",
    "print(a)\n",
    "a-=10 # a=a-bと同じ\n",
    "print(a)\n",
    "a*=10 # a=a*bと同じ\n",
    "print(a)\n",
    "a/=10 # a=a/bと同じ\n",
    "print(a)"
   ]
  },
  {
   "cell_type": "code",
   "execution_count": 16,
   "metadata": {},
   "outputs": [
    {
     "name": "stdout",
     "output_type": "stream",
     "text": [
      "a= 5 b= 10\n",
      "True\n",
      "False\n",
      "False\n",
      "True\n"
     ]
    }
   ],
   "source": [
    "# 様々な比較演算子\n",
    "a=5\n",
    "b=10\n",
    "print('a=',a,'b=',b,sep=' ')\n",
    "print(a<b) # 条件成立でTrue，不成立でFalseを返す\n",
    "print(a>b)\n",
    "print(a==b)\n",
    "print(a!=b)"
   ]
  },
  {
   "cell_type": "code",
   "execution_count": 17,
   "metadata": {},
   "outputs": [
    {
     "name": "stdout",
     "output_type": "stream",
     "text": [
      "False\n",
      "True\n"
     ]
    }
   ],
   "source": [
    "# 論理演算子\n",
    "a=3\n",
    "print((a<10) and (a>5)) \n",
    "print((a<10) or (a==1))"
   ]
  },
  {
   "cell_type": "markdown",
   "metadata": {},
   "source": [
    "# リスト"
   ]
  },
  {
   "cell_type": "code",
   "execution_count": 18,
   "metadata": {},
   "outputs": [
    {
     "name": "stdout",
     "output_type": "stream",
     "text": [
      "1 2 3 4\n",
      "1 2 さん 4\n"
     ]
    }
   ],
   "source": [
    "# リスト．複数データを一つの名前（変数名）と添え字によって管理する仕組み\n",
    "# 配列は一般に最初から大きさ（長さ）が決まっているがリストはそれが可変である（後からデータを挿入・削除できる）\n",
    "\n",
    "a = [1, 2, 3, 4]\n",
    "print(a[0],a[1],a[2],a[3])\n",
    "\n",
    "a[2] = 'さん' # 整数と文字列が同じリストで管理できる\n",
    "print(a[0],a[1],a[2],a[3])"
   ]
  },
  {
   "cell_type": "code",
   "execution_count": 19,
   "metadata": {},
   "outputs": [
    {
     "name": "stdout",
     "output_type": "stream",
     "text": [
      "4\n"
     ]
    }
   ],
   "source": [
    "a = [1, 2, 3, 4]\n",
    "# リストの要素数取得\n",
    "print(len(a))"
   ]
  },
  {
   "cell_type": "code",
   "execution_count": 20,
   "metadata": {},
   "outputs": [
    {
     "name": "stdout",
     "output_type": "stream",
     "text": [
      "[['A', 'B', 'C'], ['D', 'E', 'F']]\n"
     ]
    }
   ],
   "source": [
    "# リストの入れ子\n",
    "a1=['A','B','C']\n",
    "a2=['D','E','F']\n",
    "a=[a1,a2] # aというリストの中にa1とa2という2つのリストを入れる\n",
    "print(a)"
   ]
  },
  {
   "cell_type": "code",
   "execution_count": 21,
   "metadata": {},
   "outputs": [
    {
     "name": "stdout",
     "output_type": "stream",
     "text": [
      "[1, 2, 3, 4]\n",
      "[1, 'に', 3]\n"
     ]
    }
   ],
   "source": [
    "# 要素の追加\n",
    "a=[1,2,3]\n",
    "a.append(4) # リストの末尾に4を追加\n",
    "print(a)\n",
    "\n",
    "# 要素の挿入\n",
    "b=[1,3]\n",
    "b.insert(1, 'に') # リストの1番目の要素（つまり3）の前に「に」を挿入\n",
    "print(b)"
   ]
  },
  {
   "cell_type": "code",
   "execution_count": 22,
   "metadata": {},
   "outputs": [
    {
     "name": "stdout",
     "output_type": "stream",
     "text": [
      "['あ', 'い', 'う', 'え', 'お']\n"
     ]
    }
   ],
   "source": [
    "# リストの連結\n",
    "list1 = ['あ','い','う']\n",
    "list2 = ['え', 'お']\n",
    "\n",
    "a=list1+list2\n",
    "print(a)"
   ]
  },
  {
   "cell_type": "code",
   "execution_count": null,
   "metadata": {},
   "outputs": [],
   "source": []
  }
 ],
 "metadata": {
  "kernelspec": {
   "display_name": "Python 3",
   "language": "python",
   "name": "python3"
  },
  "language_info": {
   "codemirror_mode": {
    "name": "ipython",
    "version": 3
   },
   "file_extension": ".py",
   "mimetype": "text/x-python",
   "name": "python",
   "nbconvert_exporter": "python",
   "pygments_lexer": "ipython3",
   "version": "3.6.4"
  }
 },
 "nbformat": 4,
 "nbformat_minor": 2
}
