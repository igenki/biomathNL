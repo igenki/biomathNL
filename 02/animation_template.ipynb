{
 "cells": [
  {
   "cell_type": "markdown",
   "metadata": {},
   "source": [
    "# アニメーションのテンプレート"
   ]
  },
  {
   "cell_type": "code",
   "execution_count": null,
   "metadata": {},
   "outputs": [],
   "source": [
    "# Jupyter上でアニメーション実行のため必要\n",
    "%matplotlib nbagg\n",
    "\n",
    "import matplotlib.pyplot as plt\n",
    "import matplotlib.animation as animation\n",
    "\n",
    "'''\n",
    "必要な処理を書く\n",
    "'''\n",
    "\n",
    "# Figureのインスタンス生成\n",
    "fig=plt.figure()\n",
    "\n",
    "# 画像データをストックするためのリスト\n",
    "ims=[]\n",
    "\n",
    "for i in range(MAXT+1):\n",
    "    '''\n",
    "    必要な処理を書く\n",
    "    '''\n",
    "    # 画像データを生成\n",
    "    # 折れ線グラフ\n",
    "    im=plt.plot(hoge)\n",
    "\n",
    "    # 散布図\n",
    "    # im=plt.scatter(hoge)\n",
    "\n",
    "    # 2次元画像データ\n",
    "    # im=plt.imshow(hoge)\n",
    "\n",
    "    # 画像データをリストに追加\n",
    "    # ArtistAnimationにはリストを渡さないといけない\n",
    "    # scatterやimshowはリストではないので[im]のようにリストにラッピングしてから渡す\n",
    "    # plotはリストなのでims.append(im)と書く．\n",
    "    ims.append([im])\n",
    "\n",
    "\n",
    "ani=animation.ArtistAnimation(fig, ims)\n",
    "plt.show()"
   ]
  }
 ],
 "metadata": {
  "kernelspec": {
   "display_name": "Python 3",
   "language": "python",
   "name": "python3"
  },
  "language_info": {
   "codemirror_mode": {
    "name": "ipython",
    "version": 3
   },
   "file_extension": ".py",
   "mimetype": "text/x-python",
   "name": "python",
   "nbconvert_exporter": "python",
   "pygments_lexer": "ipython3",
   "version": "3.7.6"
  }
 },
 "nbformat": 4,
 "nbformat_minor": 2
}
