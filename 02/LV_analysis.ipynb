{
 "cells": [
  {
   "cell_type": "markdown",
   "metadata": {},
   "source": [
    "# 第2回 数理生物研究 $\\times$ 計算機"
   ]
  },
  {
   "cell_type": "markdown",
   "metadata": {},
   "source": [
    "# 力学系の数理解析と数値計算"
   ]
  },
  {
   "cell_type": "markdown",
   "metadata": {},
   "source": [
    "## 線形安定性解析"
   ]
  },
  {
   "cell_type": "markdown",
   "metadata": {},
   "source": [
    "### 変数宣言 & 方程式の定義"
   ]
  },
  {
   "cell_type": "code",
   "execution_count": 1,
   "metadata": {},
   "outputs": [
    {
     "data": {
      "text/latex": [
       "$\\displaystyle a x - b x y$"
      ],
      "text/plain": [
       "a*x - b*x*y"
      ]
     },
     "metadata": {},
     "output_type": "display_data"
    },
    {
     "data": {
      "text/latex": [
       "$\\displaystyle c x y - d y$"
      ],
      "text/plain": [
       "c*x*y - d*y"
      ]
     },
     "metadata": {},
     "output_type": "display_data"
    }
   ],
   "source": [
    "import sympy as sp\n",
    "import numpy as np\n",
    "import matplotlib.pyplot as plt\n",
    "\n",
    "# 変数，定数の宣言\n",
    "sp.var('x,y,a,b,c,d')\n",
    "\n",
    "# 関数f,gの定義\n",
    "f = a*x - b*x*y\n",
    "g = c*x*y - d*y\n",
    "\n",
    "display(f)\n",
    "display(g)"
   ]
  },
  {
   "cell_type": "markdown",
   "metadata": {},
   "source": [
    "### $f=0,g=0$ の連立方程式を解いて平衡点を求める"
   ]
  },
  {
   "cell_type": "code",
   "execution_count": 2,
   "metadata": {
    "scrolled": true
   },
   "outputs": [
    {
     "data": {
      "text/plain": [
       "[(0, 0), (d/c, a/b)]"
      ]
     },
     "metadata": {},
     "output_type": "display_data"
    }
   ],
   "source": [
    "eq1 = sp.Eq(f, 0)\n",
    "eq2 = sp.Eq(g, 0)\n",
    "equivs = sp.solve([eq1, eq2], [x,y])\n",
    "display(equivs)"
   ]
  },
  {
   "cell_type": "markdown",
   "metadata": {},
   "source": [
    "### ヤコビ行列を求める"
   ]
  },
  {
   "cell_type": "code",
   "execution_count": 3,
   "metadata": {},
   "outputs": [
    {
     "data": {
      "text/latex": [
       "$\\displaystyle \\left[\\begin{matrix}a - b y & - b x\\\\c y & c x - d\\end{matrix}\\right]$"
      ],
      "text/plain": [
       "Matrix([\n",
       "[a - b*y,    -b*x],\n",
       "[    c*y, c*x - d]])"
      ]
     },
     "metadata": {},
     "output_type": "display_data"
    }
   ],
   "source": [
    "# ヤコビ行列の各要素を求める\n",
    "j11 = sp.diff(f, x)\n",
    "j12 = sp.diff(f, y)\n",
    "j21 = sp.diff(g, x)\n",
    "j22 = sp.diff(g, y)\n",
    "\n",
    "# 要素を並べて行列にする\n",
    "J = sp.Matrix(([j11,j12],[j21,j22]))\n",
    "display(J)"
   ]
  },
  {
   "cell_type": "code",
   "execution_count": 4,
   "metadata": {},
   "outputs": [
    {
     "name": "stdout",
     "output_type": "stream",
     "text": [
      "\n"
     ]
    }
   ],
   "source": [
    "# 以下はよりスマートな方法．ただの参考なのでコメントアウトしてあります．\n",
    "'''\n",
    "# ヤコビ行列を生成\n",
    "u = sp.Matrix((x, y))\n",
    "f_taylor = sp.Matrix(sp.tensor.array.derive_by_array(f, u))  # f の一階微分\n",
    "g_taylor = sp.Matrix(sp.tensor.array.derive_by_array(g, u))  # g の一階微分\n",
    "\n",
    "# 一階微分を並べて行列にする\n",
    "Jacob = f_taylor.col_insert(1,g_taylor)\n",
    "display(Jacob)\n",
    "'''\n",
    "print()"
   ]
  },
  {
   "cell_type": "code",
   "execution_count": 5,
   "metadata": {},
   "outputs": [
    {
     "name": "stdout",
     "output_type": "stream",
     "text": [
      "[(x, 0), (y, 0)]\n"
     ]
    },
    {
     "data": {
      "text/latex": [
       "$\\displaystyle \\left[\\begin{matrix}a & 0\\\\0 & - d\\end{matrix}\\right]$"
      ],
      "text/plain": [
       "Matrix([\n",
       "[a,  0],\n",
       "[0, -d]])"
      ]
     },
     "metadata": {},
     "output_type": "display_data"
    },
    {
     "data": {
      "text/plain": [
       "{a: 1, -d: 1}"
      ]
     },
     "metadata": {},
     "output_type": "display_data"
    }
   ],
   "source": [
    "u = sp.Matrix((x,y))\n",
    "\n",
    "# 平衡点 (0,0) についての固有値\n",
    "xy_equiv1 = list(zip(u,equivs[0]))\n",
    "print(xy_equiv1)\n",
    "display(J.subs(xy_equiv1))\n",
    "ev1 = J.subs(xy_equiv1).eigenvals()\n",
    "display(ev1)"
   ]
  },
  {
   "cell_type": "code",
   "execution_count": 6,
   "metadata": {},
   "outputs": [
    {
     "name": "stdout",
     "output_type": "stream",
     "text": [
      "[(x, d/c), (y, a/b)]\n"
     ]
    },
    {
     "data": {
      "text/latex": [
       "$\\displaystyle \\left[\\begin{matrix}0 & - \\frac{b d}{c}\\\\\\frac{a c}{b} & 0\\end{matrix}\\right]$"
      ],
      "text/plain": [
       "Matrix([\n",
       "[    0, -b*d/c],\n",
       "[a*c/b,      0]])"
      ]
     },
     "metadata": {},
     "output_type": "display_data"
    },
    {
     "data": {
      "text/plain": [
       "{-sqrt(-a*d): 1, sqrt(-a*d): 1}"
      ]
     },
     "metadata": {},
     "output_type": "display_data"
    }
   ],
   "source": [
    "# 平衡点 (d/c, a/b) についての固有値\n",
    "xy_equiv2 = list(zip(u,equivs[1]))\n",
    "print(xy_equiv2)\n",
    "display(J.subs(xy_equiv2))\n",
    "ev2 = J.subs(xy_equiv2).eigenvals()\n",
    "display(ev2)"
   ]
  },
  {
   "cell_type": "markdown",
   "metadata": {},
   "source": [
    "## ベクトル場"
   ]
  },
  {
   "cell_type": "markdown",
   "metadata": {},
   "source": [
    "### 平衡点まわりの解の挙動をプロット"
   ]
  },
  {
   "cell_type": "code",
   "execution_count": 7,
   "metadata": {},
   "outputs": [
    {
     "data": {
      "image/png": "[encoded data removed]",
      "text/plain": [
       "<Figure size 288x288 with 1 Axes>"
      ]
     },
     "metadata": {
      "needs_background": "light"
     },
     "output_type": "display_data"
    }
   ],
   "source": [
    "# 平衡点 (0,0) まわりの解の挙動\n",
    "a_ = 1\n",
    "b_ = 0.01\n",
    "c_ = 0.02\n",
    "d_ = 1\n",
    "\n",
    "xo,yo = equivs[0]    # 平衡点\n",
    "LX, LY = 0.05, 0.05  # 平衡点まわりの表示範囲（今回は±0.05の範囲を表示）\n",
    "gridwidth = 0.01     # ベクトルを描画する間隔\n",
    "\n",
    "x_array = np.arange(-LX+xo, LX+xo+0.001, gridwidth, dtype=float)\n",
    "y_array = np.arange(-LY+yo, LY+yo+0.001, gridwidth, dtype=float)\n",
    "X, Y= np.meshgrid(x_array, y_array)\n",
    "\n",
    "# 解の挙動を算出\n",
    "U = a_*X - b_*X*Y\n",
    "V = c_*X*Y - d_*Y\n",
    "\n",
    "# プロット\n",
    "plt.figure(figsize=(4,4))\n",
    "plt.quiver(X,Y,U,V,angles='xy',scale_units='xy', scale=5.0)\n",
    "plt.savefig('vector1.eps')"
   ]
  },
  {
   "cell_type": "code",
   "execution_count": 8,
   "metadata": {},
   "outputs": [
    {
     "data": {
      "image/png": "[encoded data removed]",
      "text/plain": [
       "<Figure size 288x288 with 1 Axes>"
      ]
     },
     "metadata": {
      "needs_background": "light"
     },
     "output_type": "display_data"
    }
   ],
   "source": [
    "# 平衡点 (d/c, a/b) まわりの解の挙動\n",
    "a_ = 1\n",
    "b_ = 0.01\n",
    "c_ = 0.02\n",
    "d_ = 1\n",
    "\n",
    "xo,yo = equivs[1]    # 平衡点\n",
    "xo = xo.subs(list(zip([c,d], [c_,d_])))  # パラメータの値を代入\n",
    "yo = yo.subs(list(zip([a,b], [a_,b_])))  # 同上\n",
    "\n",
    "LX, LY = 0.05, 0.05  # 平衡点まわりの表示範囲（今回は±0.05の範囲を表示）\n",
    "gridwidth = 0.01     # ベクトルを描画する間隔\n",
    "\n",
    "x_array = np.arange(-LX+xo, LX+xo+0.001, gridwidth, dtype=float)\n",
    "y_array = np.arange(-LY+yo, LY+yo+0.001,gridwidth, dtype=float)\n",
    "X, Y= np.meshgrid(x_array,y_array)\n",
    "\n",
    "# 解の挙動を算出\n",
    "U = a_*X - b_*X*Y\n",
    "V = c_*X*Y - d_*Y\n",
    "\n",
    "# プロット\n",
    "plt.figure(figsize=(4,4))\n",
    "plt.quiver(X,Y,U,V,angles='xy',scale_units='xy', scale=5.0)\n",
    "plt.savefig('vector2.eps')"
   ]
  },
  {
   "cell_type": "code",
   "execution_count": null,
   "metadata": {},
   "outputs": [],
   "source": []
  }
 ],
 "metadata": {
  "kernelspec": {
   "display_name": "Python 3",
   "language": "python",
   "name": "python3"
  },
  "language_info": {
   "codemirror_mode": {
    "name": "ipython",
    "version": 3
   },
   "file_extension": ".py",
   "mimetype": "text/x-python",
   "name": "python",
   "nbconvert_exporter": "python",
   "pygments_lexer": "ipython3",
   "version": "3.7.6"
  }
 },
 "nbformat": 4,
 "nbformat_minor": 4
}
