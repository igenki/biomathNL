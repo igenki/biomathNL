{
 "cells": [
  {
   "cell_type": "markdown",
   "metadata": {},
   "source": [
    "# 制御文"
   ]
  },
  {
   "cell_type": "code",
   "execution_count": 1,
   "metadata": {},
   "outputs": [
    {
     "name": "stdout",
     "output_type": "stream",
     "text": [
      "5 は\n",
      "10未満です．\n"
     ]
    }
   ],
   "source": [
    "# if文\n",
    "\n",
    "a = 5\n",
    "print(a,'は')\n",
    "\n",
    "if a < 10:\n",
    "    print('10未満です．') # 処理のかたまりをブロックと呼ぶ．Pythonではブロックを{}ではなく，インデント（字下げ）によって指定する．\n",
    "else:\n",
    "    print('10以上です．') # インデントはタブあるいは空白半角4文字を推奨．Jupyterや他の開発環境ではインデントは自動的につけてくれる"
   ]
  },
  {
   "cell_type": "code",
   "execution_count": 3,
   "metadata": {},
   "outputs": [
    {
     "name": "stdout",
     "output_type": "stream",
     "text": [
      "aは\n",
      "2です．\n"
     ]
    }
   ],
   "source": [
    "# 連続したif文\n",
    "a=2\n",
    "print('aは')\n",
    "if a==1:\n",
    "    print('1です．')\n",
    "elif a==2:\n",
    "    print('2です．')\n",
    "else:\n",
    "    print('それ以外です．')"
   ]
  },
  {
   "cell_type": "code",
   "execution_count": 4,
   "metadata": {},
   "outputs": [
    {
     "name": "stdout",
     "output_type": "stream",
     "text": [
      "まあまあです．\n"
     ]
    }
   ],
   "source": [
    "# if文の入れ子\n",
    "a=80\n",
    "if a>70:\n",
    "    if a==100:\n",
    "        print('100点です')\n",
    "    else:\n",
    "        print('まあまあです．')\n",
    "else:\n",
    "    print('もう少し頑張りましょう')"
   ]
  },
  {
   "cell_type": "code",
   "execution_count": 5,
   "metadata": {},
   "outputs": [
    {
     "name": "stdout",
     "output_type": "stream",
     "text": [
      "Mon\n",
      "Tue\n",
      "Wed\n",
      "Thu\n",
      "Fru\n",
      "Sat\n",
      "Sun\n"
     ]
    }
   ],
   "source": [
    "# for文\n",
    "w=['Mon','Tue','Wed','Thu','Fru','Sat','Sun']\n",
    "for day in w:\n",
    "    print(day)"
   ]
  },
  {
   "cell_type": "code",
   "execution_count": 6,
   "metadata": {},
   "outputs": [
    {
     "name": "stdout",
     "output_type": "stream",
     "text": [
      "0\n",
      "1\n",
      "2\n",
      "3\n",
      "4\n",
      "5\n",
      "6\n",
      "7\n",
      "8\n",
      "9\n",
      "\n",
      "10\n",
      "9\n",
      "8\n",
      "7\n",
      "6\n",
      "\n",
      "[1, 3, 5, 7, 9]\n"
     ]
    }
   ],
   "source": [
    "#  range()を使った繰り返し\n",
    "\n",
    "for a in range(10): # range()は0から指定した値の1つ前の数値を生成する\n",
    "    print(a)\n",
    "\n",
    "print() # 空行\n",
    "    \n",
    "for a in range(10,5,-1): # range()の引数が3つの場合は，順に開始値，終端値，ステップを表す\n",
    "    print(a)\n",
    "    \n",
    "print()\n",
    "    \n",
    "li=list(range(1,10,2)) # range()を用いたリストの生成\n",
    "print(li)"
   ]
  },
  {
   "cell_type": "code",
   "execution_count": 7,
   "metadata": {},
   "outputs": [
    {
     "name": "stdout",
     "output_type": "stream",
     "text": [
      "[2, 4, 6, 8, 10]\n",
      "[2, 4, 6, 8, 10]\n"
     ]
    }
   ],
   "source": [
    "# 内包表記\n",
    "\n",
    "# 通常のリスト生成\n",
    "a=[1,2,3,4,5]\n",
    "a2=[]\n",
    "for x in a:\n",
    "    a2.append(x*2)\n",
    "print(a2)\n",
    "\n",
    "# リスト内包表記\n",
    "b=[1,2,3,4,5]\n",
    "b2=[x*2 for x in b]\n",
    "print(b2)"
   ]
  },
  {
   "cell_type": "markdown",
   "metadata": {},
   "source": [
    "# 関数"
   ]
  },
  {
   "cell_type": "code",
   "execution_count": 8,
   "metadata": {},
   "outputs": [
    {
     "name": "stdout",
     "output_type": "stream",
     "text": [
      "5\n",
      "Hello\n"
     ]
    }
   ],
   "source": [
    "def add(a, b): # 関数の定義\n",
    "    x=a+b\n",
    "    return x\n",
    "\n",
    "y=add(1,4)\n",
    "print(y)\n",
    "\n",
    "def getGreeting():\n",
    "    return 'Hello'\n",
    "\n",
    "s=getGreeting()\n",
    "print(s)"
   ]
  }
 ],
 "metadata": {
  "kernelspec": {
   "display_name": "Python 3",
   "language": "python",
   "name": "python3"
  },
  "language_info": {
   "codemirror_mode": {
    "name": "ipython",
    "version": 3
   },
   "file_extension": ".py",
   "mimetype": "text/x-python",
   "name": "python",
   "nbconvert_exporter": "python",
   "pygments_lexer": "ipython3",
   "version": "3.6.4"
  }
 },
 "nbformat": 4,
 "nbformat_minor": 2
}
